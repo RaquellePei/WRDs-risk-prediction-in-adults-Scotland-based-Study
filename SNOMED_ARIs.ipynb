{
  "nbformat": 4,
  "nbformat_minor": 0,
  "metadata": {
    "colab": {
      "provenance": [],
      "authorship_tag": "ABX9TyMr1HnFtcjSz9+KPvROLCLn"
    },
    "kernelspec": {
      "name": "python3",
      "display_name": "Python 3"
    },
    "language_info": {
      "name": "python"
    }
  },
  "cells": [
    {
      "cell_type": "markdown",
      "source": [
        "# Step 0: UMLS installation"
      ],
      "metadata": {
        "id": "S82PmJVxlpYt"
      }
    },
    {
      "cell_type": "markdown",
      "source": [
        "### Reference: The Owlready2 package. See https://owlready2.readthedocs.io/en/latest/pymedtermino2.html#"
      ],
      "metadata": {
        "id": "mY8VMpYCrtQs"
      }
    },
    {
      "cell_type": "code",
      "source": [
        "# Install the package\n",
        "!pip install owlready2"
      ],
      "metadata": {
        "colab": {
          "base_uri": "https://localhost:8080/"
        },
        "id": "4wtQJ7OTG68P",
        "outputId": "6bc1534d-8f24-476a-d5f7-0b68baa2addc"
      },
      "execution_count": 2,
      "outputs": [
        {
          "output_type": "stream",
          "name": "stdout",
          "text": [
            "Collecting owlready2\n",
            "  Downloading owlready2-0.47.tar.gz (27.3 MB)\n",
            "\u001b[2K     \u001b[90m━━━━━━━━━━━━━━━━━━━━━━━━━━━━━━━━━━━━━━━━\u001b[0m \u001b[32m27.3/27.3 MB\u001b[0m \u001b[31m20.9 MB/s\u001b[0m eta \u001b[36m0:00:00\u001b[0m\n",
            "\u001b[?25h  Installing build dependencies ... \u001b[?25l\u001b[?25hdone\n",
            "  Getting requirements to build wheel ... \u001b[?25l\u001b[?25hdone\n",
            "  Preparing metadata (pyproject.toml) ... \u001b[?25l\u001b[?25hdone\n",
            "Building wheels for collected packages: owlready2\n",
            "  Building wheel for owlready2 (pyproject.toml) ... \u001b[?25l\u001b[?25hdone\n",
            "  Created wheel for owlready2: filename=owlready2-0.47-cp310-cp310-linux_x86_64.whl size=24075200 sha256=deac98253482beb75430377966e11f04349f940d842743666172580eb217e14d\n",
            "  Stored in directory: /root/.cache/pip/wheels/27/3e/ba/4171c4b10bba9fe1774fbf8fcf794de889e636ce64ad83a533\n",
            "Successfully built owlready2\n",
            "Installing collected packages: owlready2\n",
            "Successfully installed owlready2-0.47\n"
          ]
        }
      ]
    },
    {
      "cell_type": "code",
      "source": [
        "# Get access to my Google drive\n",
        "from google.colab import drive\n",
        "drive.mount('/content/drive')"
      ],
      "metadata": {
        "colab": {
          "base_uri": "https://localhost:8080/"
        },
        "id": "ESNkzIowjoiw",
        "outputId": "3503b571-71fb-4719-c929-81ef70b872c5"
      },
      "execution_count": 3,
      "outputs": [
        {
          "output_type": "stream",
          "name": "stdout",
          "text": [
            "Mounted at /content/drive\n"
          ]
        }
      ]
    },
    {
      "cell_type": "code",
      "execution_count": 4,
      "metadata": {
        "id": "La8-z5zmGUfd",
        "colab": {
          "base_uri": "https://localhost:8080/"
        },
        "outputId": "b794b38e-25d8-4942-907b-bd914e4f3940"
      },
      "outputs": [
        {
          "output_type": "stream",
          "name": "stdout",
          "text": [
            "Importing UMLS from /content/drive/MyDrive/UMLS/umls-2024AB-metathesaurus-full.zip with Python version 3.10.12 and Owlready version 2-0.47...\n",
            "  Parsing 2024AB/META/MRRANK.RRF as MRRANK\n",
            "  Parsing 2024AB/META/MRCONSO.RRF as MRCONSO\n",
            "  Parsing 2024AB/META/MRDEF.RRF as MRDEF\n",
            "  Parsing 2024AB/META/MRREL.RRF as MRREL\n",
            "  Parsing 2024AB/META/MRSAT.RRF as MRSAT\n",
            "Breaking ORIG cycles...\n",
            "    SNOMEDCT_US : 0 cycles found: \n",
            "    ICD10 : 0 cycles found: \n",
            "    SRC : 0 cycles found: \n",
            "Finalizing only properties and restrictions...\n",
            "Finalizing CUI - ORIG mapping...\n",
            "FTS Indexing...\n"
          ]
        }
      ],
      "source": [
        "# Get access to the UMLS zip\n",
        "from owlready2 import *\n",
        "from owlready2.pymedtermino2 import *\n",
        "from owlready2.pymedtermino2.umls import *\n",
        "default_world.set_backend(filename = \"pym.sqlite3\")\n",
        "import_umls(\"/content/drive/MyDrive/UMLS/umls-2024AB-metathesaurus-full.zip\", terminologies = [\"ICD10\", \"SNOMEDCT_US\"])\n",
        "default_world.save() # 14 min taken using CPU"
      ]
    },
    {
      "cell_type": "markdown",
      "source": [
        "# Step 1: Loading SNOMED CT"
      ],
      "metadata": {
        "id": "nqAZi_ewLrCC"
      }
    },
    {
      "cell_type": "code",
      "source": [
        "from owlready2 import *\n",
        "# default_world.set_backend(filename = \"pym.sqlite3\")\n",
        "PYM = get_ontology(\"http://PYM/\").load()\n",
        "SNOMEDCT_US = PYM[\"SNOMEDCT_US\"]"
      ],
      "metadata": {
        "id": "21hjgOoyLsUf",
        "collapsed": true
      },
      "execution_count": 5,
      "outputs": []
    },
    {
      "cell_type": "markdown",
      "source": [
        "Lets have a look at the model by SNOMED ID"
      ],
      "metadata": {
        "id": "vLeZjGmpL7z4"
      }
    },
    {
      "cell_type": "code",
      "source": [
        "concept = SNOMEDCT_US[14969004]\n",
        "print(concept)"
      ],
      "metadata": {
        "colab": {
          "base_uri": "https://localhost:8080/"
        },
        "id": "O3ctj556L4sA",
        "outputId": "bea851ef-2495-485a-f906-eedb0e820992"
      },
      "execution_count": 6,
      "outputs": [
        {
          "output_type": "stream",
          "name": "stdout",
          "text": [
            "SNOMEDCT_US[\"14969004\"] # Catarrhal laryngitis\n",
            "\n"
          ]
        }
      ]
    },
    {
      "cell_type": "code",
      "source": [
        "SNOMEDCT_US.has_concept(142931000119100)"
      ],
      "metadata": {
        "colab": {
          "base_uri": "https://localhost:8080/"
        },
        "id": "1fHlwG1qJrpT",
        "outputId": "1d26b7a5-3f44-4deb-cc8f-8807b0d6a28f"
      },
      "execution_count": 9,
      "outputs": [
        {
          "output_type": "execute_result",
          "data": {
            "text/plain": [
              "True"
            ]
          },
          "metadata": {},
          "execution_count": 9
        }
      ]
    },
    {
      "cell_type": "markdown",
      "source": [
        "Let's try using SNOMED term to search"
      ],
      "metadata": {
        "id": "0J7T-mA_KO3v"
      }
    },
    {
      "cell_type": "code",
      "source": [
        "concept = SNOMEDCT_US.search('Acute ulcerative laryngitis')\n",
        "concept"
      ],
      "metadata": {
        "colab": {
          "base_uri": "https://localhost:8080/"
        },
        "id": "yHjr_pvEKOU7",
        "outputId": "1dde235e-2003-4e12-9a27-ffb02a97abfe"
      },
      "execution_count": 8,
      "outputs": [
        {
          "output_type": "execute_result",
          "data": {
            "text/plain": [
              "[SNOMEDCT_US[\"195681001\"] # Acute ulcerative laryngitis\n",
              "]"
            ]
          },
          "metadata": {},
          "execution_count": 8
        }
      ]
    },
    {
      "cell_type": "markdown",
      "source": [
        "# Step 2: Loading ICD-10"
      ],
      "metadata": {
        "id": "Yx-xzjoBkci3"
      }
    },
    {
      "cell_type": "code",
      "source": [
        "PYM = get_ontology(\"http://PYM/\").load()\n",
        "ICD10 = PYM[\"ICD10\"]"
      ],
      "metadata": {
        "id": "ARXQNJvdkyLO"
      },
      "execution_count": 10,
      "outputs": []
    },
    {
      "cell_type": "code",
      "source": [
        "print(ICD10['E10'])"
      ],
      "metadata": {
        "colab": {
          "base_uri": "https://localhost:8080/"
        },
        "id": "V0zBb2Z9rQoR",
        "outputId": "8e2b26bf-b81c-4741-a43a-0434304d7b67"
      },
      "execution_count": 11,
      "outputs": [
        {
          "output_type": "stream",
          "name": "stdout",
          "text": [
            "ICD10[\"E10\"] # Insulin-dependent diabetes mellitus\n",
            "\n"
          ]
        }
      ]
    },
    {
      "cell_type": "markdown",
      "source": [
        "# Step 3: Map between SNOMED CT & ICD-10\n",
        "\n",
        "We can map SNOMED CT to ICD-10 directly from a terminology in UMLS to another terminology in UMLS, for example from SNOMED CT to ICD10. See the example below for which converting SNOMEDCT by SNOMED Concept ID to ICD-10 code(s) and terms."
      ],
      "metadata": {
        "id": "EiqqT3nOirD3"
      }
    },
    {
      "cell_type": "code",
      "source": [
        "SNOMEDCT_US[13617004] >> ICD10"
      ],
      "metadata": {
        "colab": {
          "base_uri": "https://localhost:8080/"
        },
        "id": "JBEKARMwimKK",
        "outputId": "297cf564-a9ca-4bba-8f40-75c8ca4a4773"
      },
      "execution_count": null,
      "outputs": [
        {
          "output_type": "execute_result",
          "data": {
            "text/plain": [
              "Concepts([\n",
              "  ICD10[\"J98.8\"] # Other specified respiratory disorders\n",
              ", ICD10[\"J98.0\"] # Diseases of bronchus, not elsewhere classified\n",
              ", ICD10[\"J04.1\"] # Acute tracheitis\n",
              "])"
            ]
          },
          "metadata": {},
          "execution_count": 8
        }
      ]
    },
    {
      "cell_type": "code",
      "source": [
        "result = SNOMEDCT_US[14969004] >> ICD10\n",
        "list(result)"
      ],
      "metadata": {
        "colab": {
          "base_uri": "https://localhost:8080/"
        },
        "id": "qLZVmX4QtwR6",
        "outputId": "b3ace561-d83f-4f4a-9eed-010a155b1226"
      },
      "execution_count": null,
      "outputs": [
        {
          "output_type": "execute_result",
          "data": {
            "text/plain": [
              "[ICD10[\"J37.0\"] # Chronic laryngitis]"
            ]
          },
          "metadata": {},
          "execution_count": 9
        }
      ]
    },
    {
      "cell_type": "code",
      "source": [
        "concept = SNOMEDCT_US.search('Acute ulcerative laryngitis')\n",
        "concept\n",
        "concept[0] >> ICD10"
      ],
      "metadata": {
        "colab": {
          "base_uri": "https://localhost:8080/"
        },
        "id": "a0JnVvbGLiNT",
        "outputId": "a37e3f47-b4ff-42dc-8810-f354e0a8c79e"
      },
      "execution_count": null,
      "outputs": [
        {
          "output_type": "execute_result",
          "data": {
            "text/plain": [
              "Concepts([\n",
              "  ICD10[\"J04.0\"] # Acute laryngitis\n",
              "])"
            ]
          },
          "metadata": {},
          "execution_count": 47
        }
      ]
    },
    {
      "cell_type": "code",
      "source": [
        "def snomed_to_icd10(snomed_id, snomed_term):\n",
        "\n",
        "    if SNOMEDCT_US.has_concept(snomed_id) == False:\n",
        "        concept = SNOMEDCT_US.search(snomed_term)\n",
        "        if len(concept) != 0:\n",
        "          result = concept[0] >> ICD10\n",
        "          return list(result)\n",
        "        else:\n",
        "          return []\n",
        "\n",
        "    try:\n",
        "      result = SNOMEDCT_US[snomed_id] >> ICD10\n",
        "    except TypeError:\n",
        "      result = []\n",
        "\n",
        "    return list(result)"
      ],
      "metadata": {
        "id": "wVFp1V2gIJOt"
      },
      "execution_count": 65,
      "outputs": []
    },
    {
      "cell_type": "markdown",
      "source": [
        "# Step 4: Codelist converting\n",
        "\n",
        "Go through the SNOMED coded list for ARIs from William's work and convert the code to ICD-10 format."
      ],
      "metadata": {
        "id": "Ave3UMXfv8m0"
      }
    },
    {
      "cell_type": "code",
      "source": [
        "import pandas as pd"
      ],
      "metadata": {
        "id": "tmbY86dcwlGE"
      },
      "execution_count": 14,
      "outputs": []
    },
    {
      "cell_type": "code",
      "source": [
        "aris = pd.read_excel('SNOMED.xlsx', sheet_name='Sheet1')\n",
        "aris.head()"
      ],
      "metadata": {
        "colab": {
          "base_uri": "https://localhost:8080/",
          "height": 206
        },
        "id": "4_hELUvyv7ak",
        "outputId": "4b862c51-1679-4cc0-8098-7cf60fda0f32"
      },
      "execution_count": 15,
      "outputs": [
        {
          "output_type": "execute_result",
          "data": {
            "text/plain": [
              "  Level 3 indicator SNOMEDConceptlD                  SNOMED Preferred term  \\\n",
              "0    ARI-Laryngitis       #10809006  Parainfluenza virus laryngotracheitis   \n",
              "1    ARI-Laryngitis       #13617004                      Tracheobronchitis   \n",
              "2    ARI-Laryngitis       #14969004                   Catarrhal laryngitis   \n",
              "3    ARI-Laryngitis      #195680000            Acute oedematous laryngitis   \n",
              "4    ARI-Laryngitis      #195681001            Acute ulcerative laryngitis   \n",
              "\n",
              "   ICD10_Map                              ICD10_additional code  \n",
              "0        NaN  B97.8 Other viral agents as the cause of disea...  \n",
              "1        NaN                                                NaN  \n",
              "2        NaN                                              J37.0  \n",
              "3        NaN                                                NaN  \n",
              "4        NaN                                                NaN  "
            ],
            "text/html": [
              "\n",
              "  <div id=\"df-98461042-ed23-443f-8682-5091e4780360\" class=\"colab-df-container\">\n",
              "    <div>\n",
              "<style scoped>\n",
              "    .dataframe tbody tr th:only-of-type {\n",
              "        vertical-align: middle;\n",
              "    }\n",
              "\n",
              "    .dataframe tbody tr th {\n",
              "        vertical-align: top;\n",
              "    }\n",
              "\n",
              "    .dataframe thead th {\n",
              "        text-align: right;\n",
              "    }\n",
              "</style>\n",
              "<table border=\"1\" class=\"dataframe\">\n",
              "  <thead>\n",
              "    <tr style=\"text-align: right;\">\n",
              "      <th></th>\n",
              "      <th>Level 3 indicator</th>\n",
              "      <th>SNOMEDConceptlD</th>\n",
              "      <th>SNOMED Preferred term</th>\n",
              "      <th>ICD10_Map</th>\n",
              "      <th>ICD10_additional code</th>\n",
              "    </tr>\n",
              "  </thead>\n",
              "  <tbody>\n",
              "    <tr>\n",
              "      <th>0</th>\n",
              "      <td>ARI-Laryngitis</td>\n",
              "      <td>#10809006</td>\n",
              "      <td>Parainfluenza virus laryngotracheitis</td>\n",
              "      <td>NaN</td>\n",
              "      <td>B97.8 Other viral agents as the cause of disea...</td>\n",
              "    </tr>\n",
              "    <tr>\n",
              "      <th>1</th>\n",
              "      <td>ARI-Laryngitis</td>\n",
              "      <td>#13617004</td>\n",
              "      <td>Tracheobronchitis</td>\n",
              "      <td>NaN</td>\n",
              "      <td>NaN</td>\n",
              "    </tr>\n",
              "    <tr>\n",
              "      <th>2</th>\n",
              "      <td>ARI-Laryngitis</td>\n",
              "      <td>#14969004</td>\n",
              "      <td>Catarrhal laryngitis</td>\n",
              "      <td>NaN</td>\n",
              "      <td>J37.0</td>\n",
              "    </tr>\n",
              "    <tr>\n",
              "      <th>3</th>\n",
              "      <td>ARI-Laryngitis</td>\n",
              "      <td>#195680000</td>\n",
              "      <td>Acute oedematous laryngitis</td>\n",
              "      <td>NaN</td>\n",
              "      <td>NaN</td>\n",
              "    </tr>\n",
              "    <tr>\n",
              "      <th>4</th>\n",
              "      <td>ARI-Laryngitis</td>\n",
              "      <td>#195681001</td>\n",
              "      <td>Acute ulcerative laryngitis</td>\n",
              "      <td>NaN</td>\n",
              "      <td>NaN</td>\n",
              "    </tr>\n",
              "  </tbody>\n",
              "</table>\n",
              "</div>\n",
              "    <div class=\"colab-df-buttons\">\n",
              "\n",
              "  <div class=\"colab-df-container\">\n",
              "    <button class=\"colab-df-convert\" onclick=\"convertToInteractive('df-98461042-ed23-443f-8682-5091e4780360')\"\n",
              "            title=\"Convert this dataframe to an interactive table.\"\n",
              "            style=\"display:none;\">\n",
              "\n",
              "  <svg xmlns=\"http://www.w3.org/2000/svg\" height=\"24px\" viewBox=\"0 -960 960 960\">\n",
              "    <path d=\"M120-120v-720h720v720H120Zm60-500h600v-160H180v160Zm220 220h160v-160H400v160Zm0 220h160v-160H400v160ZM180-400h160v-160H180v160Zm440 0h160v-160H620v160ZM180-180h160v-160H180v160Zm440 0h160v-160H620v160Z\"/>\n",
              "  </svg>\n",
              "    </button>\n",
              "\n",
              "  <style>\n",
              "    .colab-df-container {\n",
              "      display:flex;\n",
              "      gap: 12px;\n",
              "    }\n",
              "\n",
              "    .colab-df-convert {\n",
              "      background-color: #E8F0FE;\n",
              "      border: none;\n",
              "      border-radius: 50%;\n",
              "      cursor: pointer;\n",
              "      display: none;\n",
              "      fill: #1967D2;\n",
              "      height: 32px;\n",
              "      padding: 0 0 0 0;\n",
              "      width: 32px;\n",
              "    }\n",
              "\n",
              "    .colab-df-convert:hover {\n",
              "      background-color: #E2EBFA;\n",
              "      box-shadow: 0px 1px 2px rgba(60, 64, 67, 0.3), 0px 1px 3px 1px rgba(60, 64, 67, 0.15);\n",
              "      fill: #174EA6;\n",
              "    }\n",
              "\n",
              "    .colab-df-buttons div {\n",
              "      margin-bottom: 4px;\n",
              "    }\n",
              "\n",
              "    [theme=dark] .colab-df-convert {\n",
              "      background-color: #3B4455;\n",
              "      fill: #D2E3FC;\n",
              "    }\n",
              "\n",
              "    [theme=dark] .colab-df-convert:hover {\n",
              "      background-color: #434B5C;\n",
              "      box-shadow: 0px 1px 3px 1px rgba(0, 0, 0, 0.15);\n",
              "      filter: drop-shadow(0px 1px 2px rgba(0, 0, 0, 0.3));\n",
              "      fill: #FFFFFF;\n",
              "    }\n",
              "  </style>\n",
              "\n",
              "    <script>\n",
              "      const buttonEl =\n",
              "        document.querySelector('#df-98461042-ed23-443f-8682-5091e4780360 button.colab-df-convert');\n",
              "      buttonEl.style.display =\n",
              "        google.colab.kernel.accessAllowed ? 'block' : 'none';\n",
              "\n",
              "      async function convertToInteractive(key) {\n",
              "        const element = document.querySelector('#df-98461042-ed23-443f-8682-5091e4780360');\n",
              "        const dataTable =\n",
              "          await google.colab.kernel.invokeFunction('convertToInteractive',\n",
              "                                                    [key], {});\n",
              "        if (!dataTable) return;\n",
              "\n",
              "        const docLinkHtml = 'Like what you see? Visit the ' +\n",
              "          '<a target=\"_blank\" href=https://colab.research.google.com/notebooks/data_table.ipynb>data table notebook</a>'\n",
              "          + ' to learn more about interactive tables.';\n",
              "        element.innerHTML = '';\n",
              "        dataTable['output_type'] = 'display_data';\n",
              "        await google.colab.output.renderOutput(dataTable, element);\n",
              "        const docLink = document.createElement('div');\n",
              "        docLink.innerHTML = docLinkHtml;\n",
              "        element.appendChild(docLink);\n",
              "      }\n",
              "    </script>\n",
              "  </div>\n",
              "\n",
              "\n",
              "<div id=\"df-29db6b6f-2b62-47c5-8153-a92089bfda7e\">\n",
              "  <button class=\"colab-df-quickchart\" onclick=\"quickchart('df-29db6b6f-2b62-47c5-8153-a92089bfda7e')\"\n",
              "            title=\"Suggest charts\"\n",
              "            style=\"display:none;\">\n",
              "\n",
              "<svg xmlns=\"http://www.w3.org/2000/svg\" height=\"24px\"viewBox=\"0 0 24 24\"\n",
              "     width=\"24px\">\n",
              "    <g>\n",
              "        <path d=\"M19 3H5c-1.1 0-2 .9-2 2v14c0 1.1.9 2 2 2h14c1.1 0 2-.9 2-2V5c0-1.1-.9-2-2-2zM9 17H7v-7h2v7zm4 0h-2V7h2v10zm4 0h-2v-4h2v4z\"/>\n",
              "    </g>\n",
              "</svg>\n",
              "  </button>\n",
              "\n",
              "<style>\n",
              "  .colab-df-quickchart {\n",
              "      --bg-color: #E8F0FE;\n",
              "      --fill-color: #1967D2;\n",
              "      --hover-bg-color: #E2EBFA;\n",
              "      --hover-fill-color: #174EA6;\n",
              "      --disabled-fill-color: #AAA;\n",
              "      --disabled-bg-color: #DDD;\n",
              "  }\n",
              "\n",
              "  [theme=dark] .colab-df-quickchart {\n",
              "      --bg-color: #3B4455;\n",
              "      --fill-color: #D2E3FC;\n",
              "      --hover-bg-color: #434B5C;\n",
              "      --hover-fill-color: #FFFFFF;\n",
              "      --disabled-bg-color: #3B4455;\n",
              "      --disabled-fill-color: #666;\n",
              "  }\n",
              "\n",
              "  .colab-df-quickchart {\n",
              "    background-color: var(--bg-color);\n",
              "    border: none;\n",
              "    border-radius: 50%;\n",
              "    cursor: pointer;\n",
              "    display: none;\n",
              "    fill: var(--fill-color);\n",
              "    height: 32px;\n",
              "    padding: 0;\n",
              "    width: 32px;\n",
              "  }\n",
              "\n",
              "  .colab-df-quickchart:hover {\n",
              "    background-color: var(--hover-bg-color);\n",
              "    box-shadow: 0 1px 2px rgba(60, 64, 67, 0.3), 0 1px 3px 1px rgba(60, 64, 67, 0.15);\n",
              "    fill: var(--button-hover-fill-color);\n",
              "  }\n",
              "\n",
              "  .colab-df-quickchart-complete:disabled,\n",
              "  .colab-df-quickchart-complete:disabled:hover {\n",
              "    background-color: var(--disabled-bg-color);\n",
              "    fill: var(--disabled-fill-color);\n",
              "    box-shadow: none;\n",
              "  }\n",
              "\n",
              "  .colab-df-spinner {\n",
              "    border: 2px solid var(--fill-color);\n",
              "    border-color: transparent;\n",
              "    border-bottom-color: var(--fill-color);\n",
              "    animation:\n",
              "      spin 1s steps(1) infinite;\n",
              "  }\n",
              "\n",
              "  @keyframes spin {\n",
              "    0% {\n",
              "      border-color: transparent;\n",
              "      border-bottom-color: var(--fill-color);\n",
              "      border-left-color: var(--fill-color);\n",
              "    }\n",
              "    20% {\n",
              "      border-color: transparent;\n",
              "      border-left-color: var(--fill-color);\n",
              "      border-top-color: var(--fill-color);\n",
              "    }\n",
              "    30% {\n",
              "      border-color: transparent;\n",
              "      border-left-color: var(--fill-color);\n",
              "      border-top-color: var(--fill-color);\n",
              "      border-right-color: var(--fill-color);\n",
              "    }\n",
              "    40% {\n",
              "      border-color: transparent;\n",
              "      border-right-color: var(--fill-color);\n",
              "      border-top-color: var(--fill-color);\n",
              "    }\n",
              "    60% {\n",
              "      border-color: transparent;\n",
              "      border-right-color: var(--fill-color);\n",
              "    }\n",
              "    80% {\n",
              "      border-color: transparent;\n",
              "      border-right-color: var(--fill-color);\n",
              "      border-bottom-color: var(--fill-color);\n",
              "    }\n",
              "    90% {\n",
              "      border-color: transparent;\n",
              "      border-bottom-color: var(--fill-color);\n",
              "    }\n",
              "  }\n",
              "</style>\n",
              "\n",
              "  <script>\n",
              "    async function quickchart(key) {\n",
              "      const quickchartButtonEl =\n",
              "        document.querySelector('#' + key + ' button');\n",
              "      quickchartButtonEl.disabled = true;  // To prevent multiple clicks.\n",
              "      quickchartButtonEl.classList.add('colab-df-spinner');\n",
              "      try {\n",
              "        const charts = await google.colab.kernel.invokeFunction(\n",
              "            'suggestCharts', [key], {});\n",
              "      } catch (error) {\n",
              "        console.error('Error during call to suggestCharts:', error);\n",
              "      }\n",
              "      quickchartButtonEl.classList.remove('colab-df-spinner');\n",
              "      quickchartButtonEl.classList.add('colab-df-quickchart-complete');\n",
              "    }\n",
              "    (() => {\n",
              "      let quickchartButtonEl =\n",
              "        document.querySelector('#df-29db6b6f-2b62-47c5-8153-a92089bfda7e button');\n",
              "      quickchartButtonEl.style.display =\n",
              "        google.colab.kernel.accessAllowed ? 'block' : 'none';\n",
              "    })();\n",
              "  </script>\n",
              "</div>\n",
              "\n",
              "    </div>\n",
              "  </div>\n"
            ],
            "application/vnd.google.colaboratory.intrinsic+json": {
              "type": "dataframe",
              "variable_name": "aris",
              "summary": "{\n  \"name\": \"aris\",\n  \"rows\": 565,\n  \"fields\": [\n    {\n      \"column\": \"Level 3 indicator\",\n      \"properties\": {\n        \"dtype\": \"category\",\n        \"num_unique_values\": 20,\n        \"samples\": [\n          \"ARI-Laryngitis\",\n          \"ARI-COPDExacerbation\",\n          \"ARI-LRTI-NOS\"\n        ],\n        \"semantic_type\": \"\",\n        \"description\": \"\"\n      }\n    },\n    {\n      \"column\": \"SNOMEDConceptlD\",\n      \"properties\": {\n        \"dtype\": \"string\",\n        \"num_unique_values\": 545,\n        \"samples\": [\n          \"#195669000\",\n          \"#6142004\",\n          \"#1089341000119100\"\n        ],\n        \"semantic_type\": \"\",\n        \"description\": \"\"\n      }\n    },\n    {\n      \"column\": \"SNOMED Preferred term\",\n      \"properties\": {\n        \"dtype\": \"string\",\n        \"num_unique_values\": 544,\n        \"samples\": [\n          \"Acute lower respiratory tract infection\",\n          \"Acute abscess of nasal sinus\",\n          \"Tonsillitis\"\n        ],\n        \"semantic_type\": \"\",\n        \"description\": \"\"\n      }\n    },\n    {\n      \"column\": \"ICD10_Map\",\n      \"properties\": {\n        \"dtype\": \"number\",\n        \"std\": null,\n        \"min\": null,\n        \"max\": null,\n        \"num_unique_values\": 0,\n        \"samples\": [],\n        \"semantic_type\": \"\",\n        \"description\": \"\"\n      }\n    },\n    {\n      \"column\": \"ICD10_additional code\",\n      \"properties\": {\n        \"dtype\": \"category\",\n        \"num_unique_values\": 2,\n        \"samples\": [],\n        \"semantic_type\": \"\",\n        \"description\": \"\"\n      }\n    }\n  ]\n}"
            }
          },
          "metadata": {},
          "execution_count": 15
        }
      ]
    },
    {
      "cell_type": "code",
      "source": [
        " aris[aris['SNOMEDConceptlD'].isna()] # No missingness"
      ],
      "metadata": {
        "colab": {
          "base_uri": "https://localhost:8080/",
          "height": 53
        },
        "id": "mWds2vQuG2-1",
        "outputId": "43c9969c-429e-4c80-b349-3f800d54f79d"
      },
      "execution_count": 25,
      "outputs": [
        {
          "output_type": "execute_result",
          "data": {
            "text/plain": [
              "Empty DataFrame\n",
              "Columns: [Level 3 indicator, SNOMEDConceptlD, SNOMED Preferred term, ICD10_Map, ICD10_additional code, SID]\n",
              "Index: []"
            ],
            "text/html": [
              "\n",
              "  <div id=\"df-3dafa560-c143-403e-abc1-51674a49d350\" class=\"colab-df-container\">\n",
              "    <div>\n",
              "<style scoped>\n",
              "    .dataframe tbody tr th:only-of-type {\n",
              "        vertical-align: middle;\n",
              "    }\n",
              "\n",
              "    .dataframe tbody tr th {\n",
              "        vertical-align: top;\n",
              "    }\n",
              "\n",
              "    .dataframe thead th {\n",
              "        text-align: right;\n",
              "    }\n",
              "</style>\n",
              "<table border=\"1\" class=\"dataframe\">\n",
              "  <thead>\n",
              "    <tr style=\"text-align: right;\">\n",
              "      <th></th>\n",
              "      <th>Level 3 indicator</th>\n",
              "      <th>SNOMEDConceptlD</th>\n",
              "      <th>SNOMED Preferred term</th>\n",
              "      <th>ICD10_Map</th>\n",
              "      <th>ICD10_additional code</th>\n",
              "      <th>SID</th>\n",
              "    </tr>\n",
              "  </thead>\n",
              "  <tbody>\n",
              "  </tbody>\n",
              "</table>\n",
              "</div>\n",
              "    <div class=\"colab-df-buttons\">\n",
              "\n",
              "  <div class=\"colab-df-container\">\n",
              "    <button class=\"colab-df-convert\" onclick=\"convertToInteractive('df-3dafa560-c143-403e-abc1-51674a49d350')\"\n",
              "            title=\"Convert this dataframe to an interactive table.\"\n",
              "            style=\"display:none;\">\n",
              "\n",
              "  <svg xmlns=\"http://www.w3.org/2000/svg\" height=\"24px\" viewBox=\"0 -960 960 960\">\n",
              "    <path d=\"M120-120v-720h720v720H120Zm60-500h600v-160H180v160Zm220 220h160v-160H400v160Zm0 220h160v-160H400v160ZM180-400h160v-160H180v160Zm440 0h160v-160H620v160ZM180-180h160v-160H180v160Zm440 0h160v-160H620v160Z\"/>\n",
              "  </svg>\n",
              "    </button>\n",
              "\n",
              "  <style>\n",
              "    .colab-df-container {\n",
              "      display:flex;\n",
              "      gap: 12px;\n",
              "    }\n",
              "\n",
              "    .colab-df-convert {\n",
              "      background-color: #E8F0FE;\n",
              "      border: none;\n",
              "      border-radius: 50%;\n",
              "      cursor: pointer;\n",
              "      display: none;\n",
              "      fill: #1967D2;\n",
              "      height: 32px;\n",
              "      padding: 0 0 0 0;\n",
              "      width: 32px;\n",
              "    }\n",
              "\n",
              "    .colab-df-convert:hover {\n",
              "      background-color: #E2EBFA;\n",
              "      box-shadow: 0px 1px 2px rgba(60, 64, 67, 0.3), 0px 1px 3px 1px rgba(60, 64, 67, 0.15);\n",
              "      fill: #174EA6;\n",
              "    }\n",
              "\n",
              "    .colab-df-buttons div {\n",
              "      margin-bottom: 4px;\n",
              "    }\n",
              "\n",
              "    [theme=dark] .colab-df-convert {\n",
              "      background-color: #3B4455;\n",
              "      fill: #D2E3FC;\n",
              "    }\n",
              "\n",
              "    [theme=dark] .colab-df-convert:hover {\n",
              "      background-color: #434B5C;\n",
              "      box-shadow: 0px 1px 3px 1px rgba(0, 0, 0, 0.15);\n",
              "      filter: drop-shadow(0px 1px 2px rgba(0, 0, 0, 0.3));\n",
              "      fill: #FFFFFF;\n",
              "    }\n",
              "  </style>\n",
              "\n",
              "    <script>\n",
              "      const buttonEl =\n",
              "        document.querySelector('#df-3dafa560-c143-403e-abc1-51674a49d350 button.colab-df-convert');\n",
              "      buttonEl.style.display =\n",
              "        google.colab.kernel.accessAllowed ? 'block' : 'none';\n",
              "\n",
              "      async function convertToInteractive(key) {\n",
              "        const element = document.querySelector('#df-3dafa560-c143-403e-abc1-51674a49d350');\n",
              "        const dataTable =\n",
              "          await google.colab.kernel.invokeFunction('convertToInteractive',\n",
              "                                                    [key], {});\n",
              "        if (!dataTable) return;\n",
              "\n",
              "        const docLinkHtml = 'Like what you see? Visit the ' +\n",
              "          '<a target=\"_blank\" href=https://colab.research.google.com/notebooks/data_table.ipynb>data table notebook</a>'\n",
              "          + ' to learn more about interactive tables.';\n",
              "        element.innerHTML = '';\n",
              "        dataTable['output_type'] = 'display_data';\n",
              "        await google.colab.output.renderOutput(dataTable, element);\n",
              "        const docLink = document.createElement('div');\n",
              "        docLink.innerHTML = docLinkHtml;\n",
              "        element.appendChild(docLink);\n",
              "      }\n",
              "    </script>\n",
              "  </div>\n",
              "\n",
              "\n",
              "    </div>\n",
              "  </div>\n"
            ],
            "application/vnd.google.colaboratory.intrinsic+json": {
              "type": "dataframe",
              "repr_error": "Out of range float values are not JSON compliant: nan"
            }
          },
          "metadata": {},
          "execution_count": 25
        }
      ]
    },
    {
      "cell_type": "code",
      "source": [
        "# Function to extract integer from SNOMEDConceptID\n",
        "def extract_integer(snomed_id):\n",
        "    # Remove the '#' and convert to integer\n",
        "    return int(str(snomed_id).lstrip('#'))"
      ],
      "metadata": {
        "id": "CKzyt3UQjfBz"
      },
      "execution_count": 26,
      "outputs": []
    },
    {
      "cell_type": "code",
      "source": [
        "aris['SID'] = aris['SNOMEDConceptlD'].apply(extract_integer)"
      ],
      "metadata": {
        "id": "RCkC3-TtjWBH"
      },
      "execution_count": 27,
      "outputs": []
    },
    {
      "cell_type": "code",
      "source": [
        "aris['ICD10_Map'] = aris.apply(lambda row: snomed_to_icd10(row['SID'], row['SNOMED Preferred term']), axis=1)"
      ],
      "metadata": {
        "id": "q7_qPezxOvG4"
      },
      "execution_count": 68,
      "outputs": []
    },
    {
      "cell_type": "code",
      "source": [
        "# Save the updated DataFrame to a new CSV file\n",
        "aris.to_excel('aris.xlsx', index=False)\n"
      ],
      "metadata": {
        "id": "ZeMyiqXnxbNc"
      },
      "execution_count": 69,
      "outputs": []
    }
  ]
}